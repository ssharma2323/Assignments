{
 "cells": [
  {
   "cell_type": "markdown",
   "id": "f4235545",
   "metadata": {},
   "source": [
    "Quesn 1)"
   ]
  },
  {
   "cell_type": "code",
   "execution_count": 2,
   "id": "58a62ba8",
   "metadata": {},
   "outputs": [],
   "source": [
    "def is_power_of_3(n):\n",
    "    if n == 1:\n",
    "        return True\n",
    "    elif n < 1 or n % 3 != 0:\n",
    "        return False\n",
    "    return is_power_of_3(n / 3)\n"
   ]
  },
  {
   "cell_type": "code",
   "execution_count": 3,
   "id": "ec1ea3d2",
   "metadata": {},
   "outputs": [
    {
     "data": {
      "text/plain": [
       "False"
      ]
     },
     "execution_count": 3,
     "metadata": {},
     "output_type": "execute_result"
    }
   ],
   "source": [
    "is_power_of_3(26)"
   ]
  },
  {
   "cell_type": "code",
   "execution_count": 4,
   "id": "29e814c5",
   "metadata": {},
   "outputs": [
    {
     "data": {
      "text/plain": [
       "True"
      ]
     },
     "execution_count": 4,
     "metadata": {},
     "output_type": "execute_result"
    }
   ],
   "source": [
    "is_power_of_3(27)"
   ]
  },
  {
   "cell_type": "markdown",
   "id": "418669d6",
   "metadata": {},
   "source": [
    "Quesn2)"
   ]
  },
  {
   "cell_type": "code",
   "execution_count": 24,
   "id": "b1603453",
   "metadata": {},
   "outputs": [],
   "source": [
    "def algo(n):\n",
    "    if n==1:\n",
    "        return 1\n",
    "    return 2 * (n//2+1-algo(n//2))"
   ]
  },
  {
   "cell_type": "code",
   "execution_count": 25,
   "id": "14a55cab",
   "metadata": {},
   "outputs": [
    {
     "data": {
      "text/plain": [
       "8"
      ]
     },
     "execution_count": 25,
     "metadata": {},
     "output_type": "execute_result"
    }
   ],
   "source": [
    "algo(15)"
   ]
  },
  {
   "cell_type": "markdown",
   "id": "4a938eb6",
   "metadata": {},
   "source": [
    "Quesn 3) "
   ]
  },
  {
   "cell_type": "code",
   "execution_count": 33,
   "id": "1f722f3b",
   "metadata": {},
   "outputs": [],
   "source": [
    "def get_subsets(string, subset='', index=0):\n",
    "    if index == len(string):\n",
    "        return [subset]\n",
    "\n",
    "    subsets = []\n",
    "\n",
    "    subsets.extend(get_subsets(string, subset + string[index], index + 1))\n",
    "\n",
    "\n",
    "    subsets.extend(get_subsets(string, subset, index + 1))\n",
    "\n",
    "    return subsets\n",
    "\n"
   ]
  },
  {
   "cell_type": "code",
   "execution_count": 34,
   "id": "b7474e0e",
   "metadata": {},
   "outputs": [
    {
     "name": "stdout",
     "output_type": "stream",
     "text": [
      "['abc', 'ab', 'ac', 'a', 'bc', 'b', 'c', '']\n"
     ]
    }
   ],
   "source": [
    "subsets = get_subsets(\"abc\")\n",
    "print(subsets)"
   ]
  },
  {
   "cell_type": "markdown",
   "id": "4cc74ba3",
   "metadata": {},
   "source": [
    "Quesn 4) "
   ]
  },
  {
   "cell_type": "code",
   "execution_count": 18,
   "id": "df298ca0",
   "metadata": {},
   "outputs": [],
   "source": [
    "def string_length(string):\n",
    "    if string == '':\n",
    "        return 0\n",
    "    else:\n",
    "        return 1 + string_length(string[1:])\n"
   ]
  },
  {
   "cell_type": "markdown",
   "id": "55da3710",
   "metadata": {},
   "source": [
    "Quesn-5)"
   ]
  },
  {
   "cell_type": "code",
   "execution_count": 38,
   "id": "2b9b6053",
   "metadata": {},
   "outputs": [],
   "source": [
    "def count_contiguous_substrings(S):\n",
    "    if len(S) < 2:\n",
    "        return 0\n",
    "    \n",
    "    count = 0\n",
    "\n",
    "    if S[0] == S[-1]:\n",
    "        count =count + 1\n",
    "    \n",
    "    count =count+ count_contiguous_substrings(S[:-1])#excluding last element\n",
    "    \n",
    "\n",
    "    count =count+  count_contiguous_substrings(S[1:])#skipping first element\n",
    "    \n",
    "    return count\n"
   ]
  },
  {
   "cell_type": "code",
   "execution_count": 39,
   "id": "d65f3f07",
   "metadata": {},
   "outputs": [
    {
     "name": "stdout",
     "output_type": "stream",
     "text": [
      "9\n"
     ]
    }
   ],
   "source": [
    "result = count_contiguous_substrings(\"abccba\")\n",
    "print(result)\n"
   ]
  },
  {
   "cell_type": "markdown",
   "id": "b4d0846d",
   "metadata": {},
   "source": [
    "Quesn7)"
   ]
  },
  {
   "cell_type": "code",
   "execution_count": 41,
   "id": "2b959ee9",
   "metadata": {},
   "outputs": [],
   "source": [
    "def print_permutations(string, current=\"\"):\n",
    "    if len(string) == 0:\n",
    "        print(current)\n",
    "    else:\n",
    "        for i in range(len(string)):\n",
    "            new_current = current + string[i]\n",
    "            remaining_chars = string[:i] + string[i+1:]\n",
    "            print_permutations(remaining_chars, new_current)\n"
   ]
  },
  {
   "cell_type": "code",
   "execution_count": 42,
   "id": "9aceeb32",
   "metadata": {},
   "outputs": [
    {
     "name": "stdout",
     "output_type": "stream",
     "text": [
      "ABC\n",
      "ACB\n",
      "BAC\n",
      "BCA\n",
      "CAB\n",
      "CBA\n"
     ]
    }
   ],
   "source": [
    "print_permutations(\"ABC\")"
   ]
  },
  {
   "cell_type": "markdown",
   "id": "fe94d549",
   "metadata": {},
   "source": [
    "Quesn-8)"
   ]
  },
  {
   "cell_type": "code",
   "execution_count": 44,
   "id": "ce168da6",
   "metadata": {},
   "outputs": [],
   "source": [
    "def count_consonants(string):\n",
    "    vowels = ['a', 'e', 'i', 'o', 'u']\n",
    "    \n",
    "    if len(string) == 0:\n",
    "        return 0\n",
    "    \n",
    "    count = count_consonants(string[1:])\n",
    "    \n",
    "    if string[0].lower() not in vowels and string[0].isalpha():\n",
    "        return count + 1\n",
    "    else:\n",
    "        return count\n"
   ]
  },
  {
   "cell_type": "code",
   "execution_count": 45,
   "id": "41035933",
   "metadata": {},
   "outputs": [
    {
     "data": {
      "text/plain": [
       "8"
      ]
     },
     "execution_count": 45,
     "metadata": {},
     "output_type": "execute_result"
    }
   ],
   "source": [
    "count_consonants(\"Data Scientist\")"
   ]
  }
 ],
 "metadata": {
  "kernelspec": {
   "display_name": "Python 3 (ipykernel)",
   "language": "python",
   "name": "python3"
  },
  "language_info": {
   "codemirror_mode": {
    "name": "ipython",
    "version": 3
   },
   "file_extension": ".py",
   "mimetype": "text/x-python",
   "name": "python",
   "nbconvert_exporter": "python",
   "pygments_lexer": "ipython3",
   "version": "3.10.9"
  }
 },
 "nbformat": 4,
 "nbformat_minor": 5
}
