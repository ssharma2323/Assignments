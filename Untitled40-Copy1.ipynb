{
 "cells": [
  {
   "cell_type": "markdown",
   "id": "711c834c",
   "metadata": {},
   "source": [
    "Implement a queue using a list in python. Include the necessary methods such as enqueue, dequeue, and isEmpty"
   ]
  },
  {
   "cell_type": "code",
   "execution_count": 5,
   "id": "dd0ea84d",
   "metadata": {},
   "outputs": [],
   "source": [
    "class Queue:\n",
    "    def __init__(self):\n",
    "        self.queue = []\n",
    "\n",
    "    def enqueue(self, item):\n",
    "        self.queue.append(item)\n",
    "\n",
    "    def dequeue(self):\n",
    "        if not self.isEmpty():\n",
    "            return self.queue.pop(0)\n",
    "        else:\n",
    "            raise IndexError(\"Queue is empty. Cannot dequeue from an empty queue.\")\n",
    "\n",
    "    def isEmpty(self):\n",
    "        return len(self.queue) == 0\n"
   ]
  },
  {
   "cell_type": "code",
   "execution_count": 6,
   "id": "0a59aad9",
   "metadata": {},
   "outputs": [],
   "source": [
    "queue = Queue()\n",
    "\n",
    "queue.enqueue(10)\n",
    "queue.enqueue(20)\n",
    "queue.enqueue(30)"
   ]
  },
  {
   "cell_type": "code",
   "execution_count": 7,
   "id": "728e06cd",
   "metadata": {},
   "outputs": [
    {
     "name": "stdout",
     "output_type": "stream",
     "text": [
      "10\n"
     ]
    }
   ],
   "source": [
    "# Dequeue elements from the queue\n",
    "item = queue.dequeue()  \n",
    "print(item) "
   ]
  },
  {
   "cell_type": "code",
   "execution_count": 8,
   "id": "4023ea98",
   "metadata": {},
   "outputs": [
    {
     "name": "stdout",
     "output_type": "stream",
     "text": [
      "20\n"
     ]
    }
   ],
   "source": [
    "item = queue.dequeue()  \n",
    "print(item) "
   ]
  },
  {
   "cell_type": "code",
   "execution_count": 9,
   "id": "2fe4a92b",
   "metadata": {},
   "outputs": [
    {
     "name": "stdout",
     "output_type": "stream",
     "text": [
      "Queue is not empty\n"
     ]
    }
   ],
   "source": [
    "if queue.isEmpty():\n",
    "    print(\"Queue is empty\")\n",
    "else:\n",
    "    print(\"Queue is not empty\")"
   ]
  },
  {
   "cell_type": "code",
   "execution_count": null,
   "id": "16774471",
   "metadata": {},
   "outputs": [],
   "source": []
  },
  {
   "cell_type": "code",
   "execution_count": null,
   "id": "701dcb38",
   "metadata": {},
   "outputs": [],
   "source": []
  }
 ],
 "metadata": {
  "kernelspec": {
   "display_name": "Python 3 (ipykernel)",
   "language": "python",
   "name": "python3"
  },
  "language_info": {
   "codemirror_mode": {
    "name": "ipython",
    "version": 3
   },
   "file_extension": ".py",
   "mimetype": "text/x-python",
   "name": "python",
   "nbconvert_exporter": "python",
   "pygments_lexer": "ipython3",
   "version": "3.10.9"
  }
 },
 "nbformat": 4,
 "nbformat_minor": 5
}
