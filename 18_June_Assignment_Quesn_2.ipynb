{
 "cells": [
  {
   "cell_type": "code",
   "execution_count": 22,
   "id": "30c29f7b",
   "metadata": {},
   "outputs": [],
   "source": [
    "class ListNode:\n",
    "    def __init__(self, val=0, next=None):\n",
    "        self.val = val\n",
    "        self.next = next\n",
    "\n",
    "def addTwoNumbers(l1, l2):\n",
    "    dummy = ListNode(0)\n",
    "    current = dummy\n",
    "    carry = 0\n",
    "\n",
    "    while l1 or l2 or carry:\n",
    "        sum = (l1.val if l1 else 0) + (l2.val if l2 else 0) + carry\n",
    "        carry = sum // 10\n",
    "        current.next = ListNode(sum % 10)\n",
    "        current = current.next\n",
    "        l1 = l1.next if l1 else None\n",
    "        l2 = l2.next if l2 else None\n",
    "\n",
    "    return dummy.next\n"
   ]
  },
  {
   "cell_type": "code",
   "execution_count": 23,
   "id": "056f4a3e",
   "metadata": {},
   "outputs": [],
   "source": [
    "node1=ListNode(2)\n",
    "node2=ListNode(4)\n",
    "node3=ListNode(3)"
   ]
  },
  {
   "cell_type": "code",
   "execution_count": 24,
   "id": "14aff171",
   "metadata": {},
   "outputs": [],
   "source": [
    "node1.next=node2\n",
    "node2.next=node3"
   ]
  },
  {
   "cell_type": "code",
   "execution_count": 25,
   "id": "d165c997",
   "metadata": {},
   "outputs": [],
   "source": [
    "node4=ListNode(5)\n",
    "node5=ListNode(6)\n",
    "node6=ListNode(4)"
   ]
  },
  {
   "cell_type": "code",
   "execution_count": 26,
   "id": "e16b2d3f",
   "metadata": {},
   "outputs": [],
   "source": [
    "node4.next=node5\n",
    "node5.next=node6"
   ]
  },
  {
   "cell_type": "code",
   "execution_count": 27,
   "id": "cd460919",
   "metadata": {},
   "outputs": [],
   "source": [
    "Result=addTwoNumbers(node1,node4)"
   ]
  },
  {
   "cell_type": "code",
   "execution_count": 28,
   "id": "8eb0cf84",
   "metadata": {},
   "outputs": [
    {
     "name": "stdout",
     "output_type": "stream",
     "text": [
      "7 0 8 "
     ]
    }
   ],
   "source": [
    "while Result:\n",
    "    print(Result.val,end=\" \")\n",
    "    Result=Result.next"
   ]
  }
 ],
 "metadata": {
  "kernelspec": {
   "display_name": "Python 3 (ipykernel)",
   "language": "python",
   "name": "python3"
  },
  "language_info": {
   "codemirror_mode": {
    "name": "ipython",
    "version": 3
   },
   "file_extension": ".py",
   "mimetype": "text/x-python",
   "name": "python",
   "nbconvert_exporter": "python",
   "pygments_lexer": "ipython3",
   "version": "3.10.9"
  }
 },
 "nbformat": 4,
 "nbformat_minor": 5
}
