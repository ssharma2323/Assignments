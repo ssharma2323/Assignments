{
 "cells": [
  {
   "cell_type": "markdown",
   "id": "f4115424",
   "metadata": {},
   "source": [
    "Implement a stack using a list in python . include the necessary methods such as push, pop, isempty"
   ]
  },
  {
   "cell_type": "code",
   "execution_count": 11,
   "id": "545afcec",
   "metadata": {},
   "outputs": [],
   "source": [
    "class Stack:\n",
    "    def __init__(self):\n",
    "        self.stack = []\n",
    "\n",
    "    def push(self, item):\n",
    "        self.stack.append(item)\n",
    "\n",
    "    def pop(self):\n",
    "        if not self.isempty():\n",
    "            return self.stack.pop()\n",
    "        else:\n",
    "            raise IndexError(\"Stack is empty. Cannot pop from an empty stack.\")\n",
    "\n",
    "    def isempty(self):\n",
    "        return len(self.stack) == 0\n",
    "\n"
   ]
  },
  {
   "cell_type": "code",
   "execution_count": 12,
   "id": "6f2c9c37",
   "metadata": {},
   "outputs": [
    {
     "name": "stdout",
     "output_type": "stream",
     "text": [
      "30\n"
     ]
    }
   ],
   "source": [
    "stack = Stack()\n",
    "\n",
    "stack.push(10)\n",
    "stack.push(20)\n",
    "stack.push(30)\n",
    "\n",
    "item = stack.pop()  \n",
    "print(item) \n"
   ]
  },
  {
   "cell_type": "code",
   "execution_count": 13,
   "id": "83f7c565",
   "metadata": {},
   "outputs": [
    {
     "name": "stdout",
     "output_type": "stream",
     "text": [
      "20\n"
     ]
    }
   ],
   "source": [
    "item = stack.pop()  \n",
    "print(item) "
   ]
  },
  {
   "cell_type": "code",
   "execution_count": 14,
   "id": "2c54668b",
   "metadata": {},
   "outputs": [
    {
     "name": "stdout",
     "output_type": "stream",
     "text": [
      "Stack is not empty\n"
     ]
    }
   ],
   "source": [
    "if stack.isempty():\n",
    "    print(\"Stack is empty\")\n",
    "else:\n",
    "    print(\"Stack is not empty\")"
   ]
  }
 ],
 "metadata": {
  "kernelspec": {
   "display_name": "Python 3 (ipykernel)",
   "language": "python",
   "name": "python3"
  },
  "language_info": {
   "codemirror_mode": {
    "name": "ipython",
    "version": 3
   },
   "file_extension": ".py",
   "mimetype": "text/x-python",
   "name": "python",
   "nbconvert_exporter": "python",
   "pygments_lexer": "ipython3",
   "version": "3.10.9"
  }
 },
 "nbformat": 4,
 "nbformat_minor": 5
}
