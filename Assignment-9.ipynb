{
 "cells": [
  {
   "cell_type": "markdown",
   "id": "8b87b30d",
   "metadata": {},
   "source": [
    "Quesn-1)"
   ]
  },
  {
   "cell_type": "code",
   "execution_count": 1,
   "id": "7a168653",
   "metadata": {},
   "outputs": [],
   "source": [
    "def pow_of_two(n):\n",
    "    if n==1:\n",
    "        return True\n",
    "    if n<1 or n%2!=0:\n",
    "        return False\n",
    "    return pow_of_two(n//2)"
   ]
  },
  {
   "cell_type": "code",
   "execution_count": 2,
   "id": "0cadecbb",
   "metadata": {},
   "outputs": [
    {
     "data": {
      "text/plain": [
       "True"
      ]
     },
     "execution_count": 2,
     "metadata": {},
     "output_type": "execute_result"
    }
   ],
   "source": [
    "pow_of_two(64)"
   ]
  },
  {
   "cell_type": "markdown",
   "id": "fa502d2f",
   "metadata": {},
   "source": [
    "Quens -2) "
   ]
  },
  {
   "cell_type": "code",
   "execution_count": 3,
   "id": "89d49c3b",
   "metadata": {},
   "outputs": [],
   "source": [
    "def sum_natural_numbers(n):\n",
    "    if n == 0:\n",
    "        return 0\n",
    "    else:\n",
    "        return n + sum_natural_numbers(n - 1)\n",
    "\n",
    "    "
   ]
  },
  {
   "cell_type": "code",
   "execution_count": 4,
   "id": "d0ac6acb",
   "metadata": {},
   "outputs": [
    {
     "data": {
      "text/plain": [
       "210"
      ]
     },
     "execution_count": 4,
     "metadata": {},
     "output_type": "execute_result"
    }
   ],
   "source": [
    "sum_natural_numbers(20)"
   ]
  },
  {
   "cell_type": "markdown",
   "id": "e39d5fc2",
   "metadata": {},
   "source": [
    "Quens -3)"
   ]
  },
  {
   "cell_type": "code",
   "execution_count": 5,
   "id": "405d107c",
   "metadata": {},
   "outputs": [],
   "source": [
    "def fact(n):\n",
    "    if n == 0:\n",
    "        return 0\n",
    "    elif n==1:\n",
    "        return 1\n",
    "    else:\n",
    "        return n * fact(n - 1)\n"
   ]
  },
  {
   "cell_type": "code",
   "execution_count": 6,
   "id": "5ea30beb",
   "metadata": {},
   "outputs": [
    {
     "data": {
      "text/plain": [
       "120"
      ]
     },
     "execution_count": 6,
     "metadata": {},
     "output_type": "execute_result"
    }
   ],
   "source": [
    "fact(5)"
   ]
  },
  {
   "cell_type": "markdown",
   "id": "eccd90b6",
   "metadata": {},
   "source": [
    "Quens-4)"
   ]
  },
  {
   "cell_type": "code",
   "execution_count": 7,
   "id": "600bcd3a",
   "metadata": {},
   "outputs": [],
   "source": [
    "def raise_pw(n,p):\n",
    "    if p==1:\n",
    "        return n\n",
    "    return n * raise_pw(n,p-1)\n",
    "    "
   ]
  },
  {
   "cell_type": "code",
   "execution_count": 8,
   "id": "dce32d2c",
   "metadata": {},
   "outputs": [
    {
     "data": {
      "text/plain": [
       "16"
      ]
     },
     "execution_count": 8,
     "metadata": {},
     "output_type": "execute_result"
    }
   ],
   "source": [
    "raise_pw(2,4)"
   ]
  },
  {
   "cell_type": "markdown",
   "id": "48a68cb9",
   "metadata": {},
   "source": [
    "Quens- 5)"
   ]
  },
  {
   "cell_type": "code",
   "execution_count": 9,
   "id": "baef9078",
   "metadata": {},
   "outputs": [],
   "source": [
    "def maximum(arr):\n",
    "    if len(arr)==1:\n",
    "        return arr[0]\n",
    "    return max(arr[0],maximum(arr[1:]))"
   ]
  },
  {
   "cell_type": "code",
   "execution_count": 10,
   "id": "0c99be02",
   "metadata": {},
   "outputs": [
    {
     "data": {
      "text/plain": [
       "8"
      ]
     },
     "execution_count": 10,
     "metadata": {},
     "output_type": "execute_result"
    }
   ],
   "source": [
    "maximum([4,6,1,0,-1,7,8])"
   ]
  },
  {
   "cell_type": "markdown",
   "id": "123166e3",
   "metadata": {},
   "source": [
    "Quens-6)"
   ]
  },
  {
   "cell_type": "code",
   "execution_count": 11,
   "id": "a9a07565",
   "metadata": {},
   "outputs": [],
   "source": [
    "def nth_term_of_ap(a, d, N):\n",
    "    if N == 1:\n",
    "        return a\n",
    "    else:\n",
    "        return nth_term_of_ap(a + d, d, N - 1)\n"
   ]
  },
  {
   "cell_type": "code",
   "execution_count": 12,
   "id": "ea753b34",
   "metadata": {},
   "outputs": [
    {
     "data": {
      "text/plain": [
       "23"
      ]
     },
     "execution_count": 12,
     "metadata": {},
     "output_type": "execute_result"
    }
   ],
   "source": [
    "nth_term_of_ap(5, 2, 10)"
   ]
  },
  {
   "cell_type": "markdown",
   "id": "6ea0eee8",
   "metadata": {},
   "source": [
    "Quens-7)"
   ]
  },
  {
   "cell_type": "code",
   "execution_count": 13,
   "id": "64b40761",
   "metadata": {},
   "outputs": [],
   "source": [
    "def permute_string(s, current=\"\"):\n",
    "    if len(s) == 0:\n",
    "        print(current)\n",
    "    else:\n",
    "        for i in range(len(s)):\n",
    "            remaining = s[:i] + s[i+1:]\n",
    "            permute_string(remaining, current + s[i])\n"
   ]
  },
  {
   "cell_type": "code",
   "execution_count": 14,
   "id": "4d4c6ce8",
   "metadata": {},
   "outputs": [
    {
     "name": "stdout",
     "output_type": "stream",
     "text": [
      "abc\n",
      "acb\n",
      "bac\n",
      "bca\n",
      "cab\n",
      "cba\n"
     ]
    }
   ],
   "source": [
    "permute_string(\"abc\", current=\"\")"
   ]
  },
  {
   "cell_type": "markdown",
   "id": "81dbbd8f",
   "metadata": {},
   "source": [
    "Quens-8)"
   ]
  },
  {
   "cell_type": "code",
   "execution_count": 15,
   "id": "f8c63e38",
   "metadata": {},
   "outputs": [],
   "source": [
    "def prodct(arr):\n",
    "    if len(arr)==1:\n",
    "        return arr[0]\n",
    "    return arr[-1]*prodct(arr[0:-1])\n",
    "    "
   ]
  },
  {
   "cell_type": "code",
   "execution_count": 16,
   "id": "99757cc7",
   "metadata": {},
   "outputs": [
    {
     "data": {
      "text/plain": [
       "12"
      ]
     },
     "execution_count": 16,
     "metadata": {},
     "output_type": "execute_result"
    }
   ],
   "source": [
    "prodct([3,4,1])"
   ]
  }
 ],
 "metadata": {
  "kernelspec": {
   "display_name": "Python 3 (ipykernel)",
   "language": "python",
   "name": "python3"
  },
  "language_info": {
   "codemirror_mode": {
    "name": "ipython",
    "version": 3
   },
   "file_extension": ".py",
   "mimetype": "text/x-python",
   "name": "python",
   "nbconvert_exporter": "python",
   "pygments_lexer": "ipython3",
   "version": "3.10.9"
  }
 },
 "nbformat": 4,
 "nbformat_minor": 5
}
